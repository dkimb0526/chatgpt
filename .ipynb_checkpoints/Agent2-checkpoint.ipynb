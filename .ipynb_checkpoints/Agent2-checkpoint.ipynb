{
 "cells": [
  {
   "cell_type": "code",
   "execution_count": 1,
   "metadata": {},
   "outputs": [],
   "source": [
    "# Import os to set API key\n",
    "import os\n",
    "# Import OpenAI as main LLM service\n",
    "from apikey import apikey, googlekey,googlecse\n",
    "from langchain import OpenAI, LLMChain\n",
    "from langchain.embeddings import OpenAIEmbeddings\n",
    "# Bring in streamlit for UI/app interface\n",
    "#from streamlit import streamlit as st\n",
    "\n",
    "# Import PDF document loaders...there's other ones as well!\n",
    "#import PyPDFLoader\n",
    "from langchain.document_loaders import PyPDFLoader\n",
    "# Import chroma as the vector store \n",
    "from langchain.vectorstores import Chroma\n",
    "\n",
    "# Import vector store stuff\n",
    "from langchain.agents.agent_toolkits import (\n",
    "    create_vectorstore_agent,\n",
    "    VectorStoreToolkit,\n",
    "    VectorStoreInfo\n",
    ")\n",
    "\n",
    "from langchain.agents import ZeroShotAgent, Tool, AgentExecutor\n",
    "#memory\n",
    "from langchain.memory import ConversationBufferMemory\n",
    "#current events\n",
    "from langchain.utilities import GoogleSearchAPIWrapper"
   ]
  },
  {
   "cell_type": "markdown",
   "metadata": {},
   "source": [
    "#fix memory issue"
   ]
  },
  {
   "cell_type": "code",
   "execution_count": 5,
   "metadata": {},
   "outputs": [],
   "source": [
    "# Can sub this out for other LLM providers\n",
    "os.environ['OPENAI_API_KEY'] = apikey\n",
    "os.environ['GOOGLE_API_KEY'] = googlekey\n",
    "os.environ['GOOGLE_CSE_ID'] = googlecse"
   ]
  },
  {
   "cell_type": "code",
   "execution_count": 6,
   "metadata": {},
   "outputs": [],
   "source": [
    "# Create instance of OpenAI LLM\n",
    "#llm = OpenAI(temperature=0.1, verbose=True, model = \"gpt-3.5-turbo\")\n",
    "#llm = OpenAI(temperature=0.1, verbose=True)\n",
    "embeddings = OpenAIEmbeddings()"
   ]
  },
  {
   "cell_type": "code",
   "execution_count": 9,
   "metadata": {},
   "outputs": [],
   "source": [
    "#get an api key\n",
    "search = GoogleSearchAPIWrapper()\n",
    "tools = [\n",
    "    Tool(\n",
    "        name=\"Search\",\n",
    "        func=search.run,\n",
    "        description=\"useful for when you need to answer questions about current events\",\n",
    "    )\n",
    "]"
   ]
  },
  {
   "cell_type": "code",
   "execution_count": 11,
   "metadata": {},
   "outputs": [],
   "source": [
    "prefix = \"\"\"Have a conversation with a human, answering the following questions as best you can. You have access to the following tools:\"\"\"\n",
    "suffix = \"\"\"Begin!\"\n",
    "\n",
    "{chat_history}\n",
    "Question: {input}\n",
    "{agent_scratchpad}\"\"\"\n",
    "\n",
    "prompt = ZeroShotAgent.create_prompt(\n",
    "    tools,\n",
    "    prefix=prefix,\n",
    "    suffix=suffix,\n",
    "    input_variables=[\"input\", \"chat_history\", \"agent_scratchpad\"],\n",
    ")\n",
    "memory = ConversationBufferMemory(memory_key=\"chat_history\")"
   ]
  },
  {
   "cell_type": "code",
   "execution_count": 18,
   "metadata": {},
   "outputs": [],
   "source": [
    "llm_chain = LLMChain(llm=OpenAI(temperature=0), prompt=prompt)\n",
    "\n",
    "agent = ZeroShotAgent(llm_chain=llm_chain, tools=tools, verbose=True)\n",
    "\n",
    "agent_chain = AgentExecutor.from_agent_and_tools(\n",
    "    agent=agent, tools=tools, verbose=True, memory=memory\n",
    ")"
   ]
  },
  {
   "cell_type": "code",
   "execution_count": 13,
   "metadata": {},
   "outputs": [],
   "source": [
    "loader = PyPDFLoader('Resume2023Jul.pdf')\n",
    "# Split pages from pdf \n",
    "pages = loader.load_and_split()\n",
    "# Load documents into vector database aka ChromaDB\n",
    "store = Chroma.from_documents(pages, embeddings, collection_name='resume')\n"
   ]
  },
  {
   "cell_type": "code",
   "execution_count": 14,
   "metadata": {},
   "outputs": [],
   "source": [
    "# Create vectorstore info object - metadata repo?\n",
    "vectorstore_info = VectorStoreInfo(\n",
    "    name=\"resume report\",\n",
    "    description=\"resume as pdf\",\n",
    "    vectorstore=store\n",
    ")"
   ]
  },
  {
   "cell_type": "code",
   "execution_count": 15,
   "metadata": {},
   "outputs": [],
   "source": [
    "# Convert the document store into a langchain toolkit\n",
    "toolkit = VectorStoreToolkit(vectorstore_info=vectorstore_info)"
   ]
  },
  {
   "cell_type": "code",
   "execution_count": 34,
   "metadata": {},
   "outputs": [],
   "source": [
    "# Add the toolkit to an end-to-end LC\n",
    "agent_executor = create_vectorstore_agent(\n",
    "    llm=llm,\n",
    "    toolkit=toolkit,\n",
    "    verbose=True\n",
    ")"
   ]
  },
  {
   "cell_type": "code",
   "execution_count": 21,
   "metadata": {},
   "outputs": [
    {
     "name": "stdout",
     "output_type": "stream",
     "text": [
      "\n",
      "\n",
      "\u001b[1m> Entering new  chain...\u001b[0m\n",
      "\u001b[32;1m\u001b[1;3mThought: I need to find out what the national anthem of Canada is\n",
      "Action: Search\n",
      "Action Input: National anthem of Canada\u001b[0m\n",
      "Observation: \u001b[36;1m\u001b[1;3mJun 6, 2023 ... It was proclaimed the official national anthem on July 1, 1980. “God Save the Queen” remains the royal anthem of Canada. The music, written by ... Jun 7, 2010 ... https://twitter.com/CanadaImmigrantCanadian National Anthem O Canada in HQ - complete with lyrics, captions, vocals & music.LYRICS:O Canada! Nov 23, 2022 ... After 100 years of tradition, O Canada was proclaimed Canada's national anthem in 1980. The music for O Canada was composed in 1880 by Calixa ... \"O Canada\" (French: Ô Canada) is the national anthem of Canada. The song was originally commissioned by Lieutenant Governor of Quebec Théodore Robitaille ... O Canada! Our home and native land! True patriot love in all of us command. Car ton bras sait porter l'épée,. Il sait porter la croix! Jul 4, 2023 ... Calixa Lavallée, a Quebecois concert pianist, composed the melody in 1880. The original French lyrics were penned the same year by judge Adolphe ... \"O Canada\" is the national anthem of Canada. Calixa Lavallée wrote the music in 1880 as a setting of a French Canadian patriotic poem composed by poet and ... Feb 21, 2023 ... The century-old anthem has been changed recently, in 2018, when its lyrics were altered to make them gender-neutral, changing \"all thy sons ... NATIONAL ANTHEM OF CANADA. O Canada! Our home and native land! True patriot love in all thy sons command. With glowing hearts we see thee rise, The True ... Feb 1, 2018 ... But with that, Canada just voted to make its national anthem, “O Canada,” gender neutral, delighting liberal lawmakers and frustrating ...\u001b[0m\n",
      "Thought:\u001b[32;1m\u001b[1;3m I now know the final answer\n",
      "Final Answer: The national anthem of Canada is \"O Canada\".\u001b[0m\n",
      "\n",
      "\u001b[1m> Finished chain.\u001b[0m\n"
     ]
    },
    {
     "data": {
      "text/plain": [
       "'The national anthem of Canada is \"O Canada\".'"
      ]
     },
     "execution_count": 21,
     "metadata": {},
     "output_type": "execute_result"
    }
   ],
   "source": [
    "agent_chain.run(input = \"what is their national anthem called\")"
   ]
  },
  {
   "cell_type": "code",
   "execution_count": null,
   "metadata": {},
   "outputs": [],
   "source": []
  },
  {
   "cell_type": "code",
   "execution_count": null,
   "metadata": {},
   "outputs": [],
   "source": []
  },
  {
   "cell_type": "code",
   "execution_count": null,
   "metadata": {},
   "outputs": [],
   "source": []
  },
  {
   "cell_type": "code",
   "execution_count": 38,
   "metadata": {},
   "outputs": [],
   "source": [
    "prompt = \"what was the question i asked you before\""
   ]
  },
  {
   "cell_type": "code",
   "execution_count": 39,
   "metadata": {},
   "outputs": [
    {
     "name": "stdout",
     "output_type": "stream",
     "text": [
      "\n",
      "\n",
      "\u001b[1m> Entering new  chain...\u001b[0m\n",
      "\u001b[32;1m\u001b[1;3m I need to remember what the original question was\n",
      "Action: resume report\n",
      "Action Input: the input question\u001b[0m"
     ]
    },
    {
     "name": "stderr",
     "output_type": "stream",
     "text": [
      "Number of requested results 4 is greater than number of elements in index 1, updating n_results = 1\n"
     ]
    },
    {
     "name": "stdout",
     "output_type": "stream",
     "text": [
      "\n",
      "Observation: \u001b[36;1m\u001b[1;3m I'm sorry, I don't know the answer to that question.\u001b[0m\n",
      "Thought:\u001b[32;1m\u001b[1;3m I don't know the answer\n",
      "Final Answer: I don't know\u001b[0m\n",
      "\n",
      "\u001b[1m> Finished chain.\u001b[0m\n"
     ]
    }
   ],
   "source": [
    "if prompt:\n",
    "    response = agent_executor.run(prompt)"
   ]
  },
  {
   "cell_type": "code",
   "execution_count": 40,
   "metadata": {},
   "outputs": [
    {
     "data": {
      "text/plain": [
       "\"I don't know\""
      ]
     },
     "execution_count": 40,
     "metadata": {},
     "output_type": "execute_result"
    }
   ],
   "source": [
    "response"
   ]
  },
  {
   "cell_type": "code",
   "execution_count": null,
   "metadata": {},
   "outputs": [],
   "source": []
  },
  {
   "cell_type": "code",
   "execution_count": null,
   "metadata": {},
   "outputs": [],
   "source": []
  },
  {
   "cell_type": "code",
   "execution_count": null,
   "metadata": {},
   "outputs": [],
   "source": []
  },
  {
   "cell_type": "code",
   "execution_count": null,
   "metadata": {},
   "outputs": [],
   "source": []
  },
  {
   "cell_type": "code",
   "execution_count": null,
   "metadata": {},
   "outputs": [],
   "source": []
  }
 ],
 "metadata": {
  "kernelspec": {
   "display_name": "Python 3 (ipykernel)",
   "language": "python",
   "name": "python3"
  },
  "language_info": {
   "codemirror_mode": {
    "name": "ipython",
    "version": 3
   },
   "file_extension": ".py",
   "mimetype": "text/x-python",
   "name": "python",
   "nbconvert_exporter": "python",
   "pygments_lexer": "ipython3",
   "version": "3.10.2"
  }
 },
 "nbformat": 4,
 "nbformat_minor": 4
}
